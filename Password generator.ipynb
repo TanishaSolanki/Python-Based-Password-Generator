{
 "cells": [
  {
   "cell_type": "code",
   "execution_count": 2,
   "id": "296778ab-05ec-4208-8da0-440530308b5d",
   "metadata": {},
   "outputs": [
    {
     "name": "stdin",
     "output_type": "stream",
     "text": [
      "How many characters do you want in your password?  8\n"
     ]
    },
    {
     "name": "stdout",
     "output_type": "stream",
     "text": [
      "Generated Password:  E0K}-ev1\n"
     ]
    }
   ],
   "source": [
    "# import modules\n",
    "import string\n",
    "import random \n",
    "# store all characters in lists \n",
    "s1 = list(string.ascii_lowercase)\n",
    "s2 = list(string.ascii_uppercase)\n",
    "s3 = list(string.digits)\n",
    "s4 = list(string.punctuation)\n",
    " \n",
    " \n",
    "# Ask user about the number of characters\n",
    "user_input = input(\"How many characters do you want in your password? \")\n",
    " \n",
    " \n",
    "# check this input is it number? is it more than 6?\n",
    "while True:\n",
    " \n",
    "    try:\n",
    " \n",
    "        characters_number = int(user_input)\n",
    " \n",
    "        if characters_number < 6:\n",
    " \n",
    "            print(\"Your number should be at least 6.\")\n",
    " \n",
    "            user_input = input(\"Please, Enter your number again: \")\n",
    " \n",
    "        else:\n",
    " \n",
    "            break\n",
    " \n",
    "    except:\n",
    " \n",
    "        print(\"Please, Enter numbers only.\")\n",
    "        user_input = input(\"How many characters do you want in your password? \")\n",
    " \n",
    " \n",
    "# shuffle all lists\n",
    "random.shuffle(s1)\n",
    "random.shuffle(s2)\n",
    "random.shuffle(s3)\n",
    "random.shuffle(s4)\n",
    " \n",
    " \n",
    "# calculate 30% & 20% of number of characters\n",
    "part1 = round(characters_number * (30/100))\n",
    "part2 = round(characters_number * (20/100))\n",
    " \n",
    " \n",
    "# generation of the password (60% letters and 40% digits & punctuations)\n",
    "result = []\n",
    " \n",
    "for x in range(part1):\n",
    "    result.append(s1[x])\n",
    "    result.append(s2[x])\n",
    " \n",
    "for x in range(part2):\n",
    " \n",
    "    result.append(s3[x])\n",
    "    result.append(s4[x])\n",
    " \n",
    " \n",
    "# shuffle result\n",
    "random.shuffle(result)\n",
    " \n",
    " \n",
    "# join result\n",
    "password = \"\".join(result)\n",
    "print(\"Generated Password: \", password)\n",
    " "
   ]
  }
 ],
 "metadata": {
  "kernelspec": {
   "display_name": "Python 3 (ipykernel)",
   "language": "python",
   "name": "python3"
  },
  "language_info": {
   "codemirror_mode": {
    "name": "ipython",
    "version": 3
   },
   "file_extension": ".py",
   "mimetype": "text/x-python",
   "name": "python",
   "nbconvert_exporter": "python",
   "pygments_lexer": "ipython3",
   "version": "3.12.7"
  }
 },
 "nbformat": 4,
 "nbformat_minor": 5
}
